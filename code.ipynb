{
 "cells": [
  {
   "cell_type": "code",
   "execution_count": null,
   "metadata": {},
   "outputs": [],
   "source": [
    "import cv2\n",
    "import pandas as pd\n",
    "from pdf2image import convert_from_path\n",
    "from mmdet.apis import init_detector, inference_detector\n",
    "import camelot\n"
   ]
  },
  {
   "cell_type": "code",
   "execution_count": null,
   "metadata": {},
   "outputs": [],
   "source": [
    "filename = 'keppel-corporation-limited-annual-report-2018.pdf'\n",
    "pages = convert_from_path(filename, 500, first_page=69, last_page=69)\n",
    "page = pages[0]  # Since it’s a single page\n",
    "image_path = 'page69.jpg'\n",
    "page.save(image_path, 'JPEG')\n"
   ]
  },
  {
   "cell_type": "code",
   "execution_count": null,
   "metadata": {},
   "outputs": [],
   "source": [
    "config_file = 'path/to/cascade_mask_rcnn_hrnetv2p_w32_20e.py'\n",
    "checkpoint_file = 'path/to/checkpoint_file.pth'\n",
    "model = init_detector(config_file, checkpoint_file, device='cuda:0')\n"
   ]
  },
  {
   "cell_type": "code",
   "execution_count": null,
   "metadata": {},
   "outputs": [],
   "source": [
    "result = inference_detector(model, image_path)"
   ]
  },
  {
   "cell_type": "code",
   "execution_count": null,
   "metadata": {},
   "outputs": [],
   "source": [
    "tables = []\n",
    "for bbox in result:\n",
    "    x1, y1, x2, y2 = map(int, bbox)\n",
    "    tables.append((x1, y1, x2, y2))\n"
   ]
  },
  {
   "cell_type": "code",
   "execution_count": null,
   "metadata": {},
   "outputs": [],
   "source": [
    "dfs = []\n",
    "for table in tables:\n",
    "    x1, y1, x2, y2 = table\n",
    "    # Camelot uses a different coordinate system, hence the transformations\n",
    "    tables = camelot.read_pdf(filename, flavor='stream', table_areas=[f\"{x1},{y1},{x2},{y2}\"], pages=\"69\")\n",
    "    for table in tables:\n",
    "        dfs.append(table.df)\n"
   ]
  },
  {
   "cell_type": "code",
   "execution_count": null,
   "metadata": {},
   "outputs": [],
   "source": [
    "with pd.ExcelWriter('extracted_tables.xlsx') as writer:\n",
    "    for i, df in enumerate(dfs):\n",
    "        df.to_excel(writer, sheet_name=f'Table_{i}', index=False)"
   ]
  }
 ],
 "metadata": {
  "kernelspec": {
   "display_name": "base",
   "language": "python",
   "name": "python3"
  },
  "language_info": {
   "name": "python",
   "version": "3.9.13"
  },
  "orig_nbformat": 4
 },
 "nbformat": 4,
 "nbformat_minor": 2
}
